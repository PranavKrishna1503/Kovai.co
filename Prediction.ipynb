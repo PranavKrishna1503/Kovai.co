{
  "nbformat": 4,
  "nbformat_minor": 0,
  "metadata": {
    "colab": {
      "provenance": []
    },
    "kernelspec": {
      "name": "python3",
      "display_name": "Python 3"
    },
    "language_info": {
      "name": "python"
    }
  },
  "cells": [
    {
      "cell_type": "code",
      "execution_count": 45,
      "metadata": {
        "colab": {
          "base_uri": "https://localhost:8080/"
        },
        "id": "svvmcG7wQwH7",
        "outputId": "1b24576f-14a2-4ae1-d650-d7c128609226"
      },
      "outputs": [
        {
          "output_type": "stream",
          "name": "stdout",
          "text": [
            "\n",
            "Predicted Output:\n",
            "        Date      Forecast\n",
            "0 2023-07-27  42175.619313\n",
            "1 2023-07-28  35949.511505\n",
            "2 2023-07-29  29723.403696\n",
            "3 2023-07-30  23497.295887\n",
            "4 2023-07-31  60409.357736\n",
            "5 2023-08-01  56173.574424\n",
            "6 2023-08-02  49947.466615\n",
            "\n",
            "Actual Output:\n",
            "            MyWay  Paper Ticket  day_of_week  day_of_month  month  year\n",
            "Date                                                                   \n",
            "2022-11-14  55417          6715            0            14     11  2022\n",
            "2020-09-28  33943          2085            0            28      9  2020\n",
            "2023-01-19  46083          4622            3            19      1  2023\n",
            "2023-08-16  70115          6955            2            16      8  2023\n",
            "2022-01-10  21932          2315            0            10      1  2022\n",
            "2020-05-04  14842           854            0             4      5  2020\n",
            "2023-07-26  69067          6811            2            26      7  2023\n",
            "R-squared Score: 0.28650583931670837\n"
          ]
        }
      ],
      "source": [
        "import pandas as pd\n",
        "import numpy as np\n",
        "import matplotlib.pyplot as plt\n",
        "from sklearn.linear_model import LinearRegression\n",
        "from datetime import datetime, timedelta\n",
        "\n",
        "df = pd.read_csv('train.csv')\n",
        "df['Date'] = pd.to_datetime(df['Date'], format=\"%d/%m/%Y\")\n",
        "\n",
        "df.set_index('Date', inplace=True)\n",
        "\n",
        "df['day_of_week'] = df.index.dayofweek\n",
        "df['day_of_month'] = df.index.day\n",
        "df['month'] = df.index.month\n",
        "df['year'] = df.index.year\n",
        "\n",
        "X = df[['day_of_week', 'day_of_month', 'month', 'year']]\n",
        "y = df['MyWay']\n",
        "\n",
        "model = LinearRegression()\n",
        "\n",
        "model.fit(X, y)\n",
        "\n",
        "last_date = df.index[-1]\n",
        "next_dates = [last_date + timedelta(days=i) for i in range(1, 8)]\n",
        "\n",
        "next_days = pd.DataFrame({'Date': next_dates})\n",
        "next_days['day_of_week'] = next_days['Date'].dt.dayofweek\n",
        "next_days['day_of_month'] = next_days['Date'].dt.day\n",
        "next_days['month'] = next_days['Date'].dt.month\n",
        "next_days['year'] = next_days['Date'].dt.year\n",
        "\n",
        "forecast = model.predict(next_days[['day_of_week', 'day_of_month', 'month', 'year']])\n",
        "\n",
        "forecast_df = pd.DataFrame({'Date': next_dates, 'Forecast': forecast})\n",
        "\n",
        "# plt.plot(df.index, df['MyWay'], label='Actual')\n",
        "# plt.plot(forecast_df['Date'], forecast_df['Forecast'], label='Forecast', color='red')\n",
        "# plt.xlabel('Date')\n",
        "# plt.ylabel('MyWay')\n",
        "# plt.title('Linear Regression Forecast for Next 7 Days')\n",
        "# plt.legend()\n",
        "# plt.show()\n",
        "\n",
        "print(\"\\nPredicted Output:\")\n",
        "print(forecast_df)\n",
        "\n",
        "print(\"\\nActual Output:\")\n",
        "print(df.tail(7))\n",
        "from sklearn.metrics import r2_score\n",
        "\n",
        "y_pred = model.predict(X)\n",
        "\n",
        "r2 = r2_score(y, y_pred)\n",
        "\n",
        "print(\"R-squared Score:\", r2)\n"
      ]
    },
    {
      "cell_type": "code",
      "source": [
        "import pandas as pd\n",
        "import numpy as np\n",
        "import matplotlib.pyplot as plt\n",
        "from statsmodels.tsa.arima.model import ARIMA\n",
        "from datetime import datetime, timedelta\n",
        "from sklearn.metrics import mean_absolute_error, mean_squared_error\n",
        "\n",
        "df = pd.read_csv('train.csv')\n",
        "df['Date'] = pd.to_datetime(df['Date'], format=\"%d/%m/%Y\")\n",
        "\n",
        "df.set_index('Date', inplace=True)\n",
        "\n",
        "model = ARIMA(df['MyWay'], order=(5,1,0))\n",
        "\n",
        "model_fit = model.fit()\n",
        "\n",
        "forecast = model_fit.forecast(steps=7)\n",
        "\n",
        "last_date = df.index[-1]\n",
        "next_dates = [last_date + timedelta(days=i) for i in range(1, 8)]\n",
        "\n",
        "forecast_df = pd.DataFrame({'Date': next_dates, 'Forecast': forecast})\n",
        "\n",
        "# plt.plot(df.index, df['MyWay'], label='Actual')\n",
        "# plt.plot(forecast_df['Date'], forecast_df['Forecast'], label='Forecast', color='red')\n",
        "# plt.xlabel('Date')\n",
        "# plt.ylabel('MyWay')\n",
        "# plt.title('ARIMA Forecast for Next 7 Days')\n",
        "# plt.legend()\n",
        "# plt.show()\n",
        "\n",
        "actual_values = df.iloc[-7:]\n",
        "actual = actual_values['MyWay'].values\n",
        "forecast = forecast_df['Forecast'].values\n",
        "\n",
        "mae = mean_absolute_error(actual, forecast)\n",
        "\n",
        "mse = mean_squared_error(actual, forecast)\n",
        "rmse = np.sqrt(mse)\n",
        "\n",
        "print(\"Mean Absolute Error (MAE):\", mae)\n",
        "print(\"Mean Squared Error (MSE):\", mse)\n",
        "print(\"Root Mean Squared Error (RMSE):\", rmse)\n",
        "\n",
        "print(\"\\nActual Output:\")\n",
        "print(actual_values)\n",
        "\n",
        "print(\"\\nPredicted Output:\")\n",
        "print(forecast_df)\n",
        "\n",
        "mape = np.mean(np.abs((actual - forecast) / actual)) * 100\n",
        "\n",
        "bias = np.mean(actual - forecast)\n",
        "\n",
        "print(\"Mean Absolute Percentage Error (MAPE):\", mape)\n",
        "print(\"Forecast Bias:\", bias)\n"
      ],
      "metadata": {
        "colab": {
          "base_uri": "https://localhost:8080/"
        },
        "id": "w6wLzpxAbWYz",
        "outputId": "5d90648d-816b-442a-f109-05529f6c9934"
      },
      "execution_count": 44,
      "outputs": [
        {
          "output_type": "stream",
          "name": "stderr",
          "text": [
            "/usr/local/lib/python3.10/dist-packages/statsmodels/tsa/base/tsa_model.py:473: ValueWarning: A date index has been provided, but it has no associated frequency information and so will be ignored when e.g. forecasting.\n",
            "  self._init_dates(dates, freq)\n",
            "/usr/local/lib/python3.10/dist-packages/statsmodels/tsa/base/tsa_model.py:473: ValueWarning: A date index has been provided, but it is not monotonic and so will be ignored when e.g. forecasting.\n",
            "  self._init_dates(dates, freq)\n",
            "/usr/local/lib/python3.10/dist-packages/statsmodels/tsa/base/tsa_model.py:473: ValueWarning: A date index has been provided, but it has no associated frequency information and so will be ignored when e.g. forecasting.\n",
            "  self._init_dates(dates, freq)\n",
            "/usr/local/lib/python3.10/dist-packages/statsmodels/tsa/base/tsa_model.py:473: ValueWarning: A date index has been provided, but it is not monotonic and so will be ignored when e.g. forecasting.\n",
            "  self._init_dates(dates, freq)\n",
            "/usr/local/lib/python3.10/dist-packages/statsmodels/tsa/base/tsa_model.py:473: ValueWarning: A date index has been provided, but it has no associated frequency information and so will be ignored when e.g. forecasting.\n",
            "  self._init_dates(dates, freq)\n",
            "/usr/local/lib/python3.10/dist-packages/statsmodels/tsa/base/tsa_model.py:473: ValueWarning: A date index has been provided, but it is not monotonic and so will be ignored when e.g. forecasting.\n",
            "  self._init_dates(dates, freq)\n"
          ]
        },
        {
          "output_type": "stream",
          "name": "stdout",
          "text": [
            "Mean Absolute Error (MAE): 18728.85518913806\n",
            "Mean Squared Error (MSE): 472696952.8290419\n",
            "Root Mean Squared Error (RMSE): 21741.59499275621\n",
            "\n",
            "Actual Output:\n",
            "            MyWay  Paper Ticket\n",
            "Date                           \n",
            "2022-11-14  55417          6715\n",
            "2020-09-28  33943          2085\n",
            "2023-01-19  46083          4622\n",
            "2023-08-16  70115          6955\n",
            "2022-01-10  21932          2315\n",
            "2020-05-04  14842           854\n",
            "2023-07-26  69067          6811\n",
            "\n",
            "Predicted Output:\n",
            "           Date      Forecast\n",
            "1778 2023-07-27  42263.425883\n",
            "1779 2023-07-28  42518.402758\n",
            "1780 2023-07-29  45463.479126\n",
            "1781 2023-07-30  39154.250173\n",
            "1782 2023-07-31  41178.587779\n",
            "1783 2023-08-01  47206.656920\n",
            "1784 2023-08-02  42885.505950\n",
            "Mean Absolute Percentage Error (MAPE): 62.60366105349628\n",
            "Forecast Bias: 1532.6702013542806\n"
          ]
        },
        {
          "output_type": "stream",
          "name": "stderr",
          "text": [
            "/usr/local/lib/python3.10/dist-packages/statsmodels/tsa/base/tsa_model.py:836: ValueWarning: No supported index is available. Prediction results will be given with an integer index beginning at `start`.\n",
            "  return get_prediction_index(\n",
            "/usr/local/lib/python3.10/dist-packages/statsmodels/tsa/base/tsa_model.py:836: FutureWarning: No supported index is available. In the next version, calling this method in a model without a supported index will result in an exception.\n",
            "  return get_prediction_index(\n"
          ]
        }
      ]
    }
  ]
}